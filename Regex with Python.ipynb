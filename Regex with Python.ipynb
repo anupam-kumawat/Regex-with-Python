{
 "cells": [
  {
   "cell_type": "markdown",
   "id": "c70df067",
   "metadata": {},
   "source": [
    "## Finding Patterns of Text Without Regular Expressions"
   ]
  },
  {
   "cell_type": "code",
   "execution_count": 1,
   "id": "e24ac2a7",
   "metadata": {},
   "outputs": [
    {
     "name": "stdout",
     "output_type": "stream",
     "text": [
      "Is 415-555-4242 a phone number?\n",
      "True\n",
      "Is Moshi moshi a phone number?\n",
      "False\n"
     ]
    }
   ],
   "source": [
    "def isPhoneNumber(text):\n",
    "    if len(text) != 12:\n",
    "        return False\n",
    "    for i in range(0, 3):\n",
    "        if not text[i].isdecimal():\n",
    "            return False\n",
    "    if text[3] != '-':\n",
    "        return False\n",
    "    for i in range(4, 7):\n",
    "        if not text[i].isdecimal():\n",
    "            return False\n",
    "    if text[7] != '-':\n",
    "        return False\n",
    "    for i in range(8, 12):\n",
    "        if not text[i].isdecimal():\n",
    "            return False\n",
    "    return True\n",
    "\n",
    "print('Is 415-555-4242 a phone number?')\n",
    "print(isPhoneNumber('415-555-4242'))\n",
    "print('Is Moshi moshi a phone number?')\n",
    "print(isPhoneNumber('Moshi moshi'))"
   ]
  },
  {
   "cell_type": "code",
   "execution_count": 2,
   "id": "7a3aa9bd",
   "metadata": {},
   "outputs": [
    {
     "name": "stdout",
     "output_type": "stream",
     "text": [
      "Phone number found:415-555-1011\n",
      "Phone number found:415-555-9999\n",
      "Done\n"
     ]
    }
   ],
   "source": [
    "message = 'Call me at 415-555-1011 tomorrow. 415-555-9999 is my office.'\n",
    "for i in range(len(message)):\n",
    "    chunk = message[i:i+12]\n",
    "    if isPhoneNumber(chunk):\n",
    "        print('Phone number found:' + chunk)\n",
    "print('Done')"
   ]
  },
  {
   "cell_type": "markdown",
   "id": "e8716713",
   "metadata": {},
   "source": [
    "## Finding Patterns of Text with Regular Expressions"
   ]
  },
  {
   "cell_type": "code",
   "execution_count": 3,
   "id": "7b3df1a7",
   "metadata": {},
   "outputs": [
    {
     "name": "stdout",
     "output_type": "stream",
     "text": [
      "Phone number found:415-555-4242\n"
     ]
    }
   ],
   "source": [
    "import re\n",
    "\n",
    "phoneNumRegex = re.compile(r'\\d\\d\\d-\\d\\d\\d-\\d\\d\\d\\d')\n",
    "mo = phoneNumRegex.search('My number is 415-555-4242.')\n",
    "print('Phone number found:' + mo.group())"
   ]
  },
  {
   "cell_type": "code",
   "execution_count": 5,
   "id": "588317d4",
   "metadata": {},
   "outputs": [
    {
     "name": "stdout",
     "output_type": "stream",
     "text": [
      "415\n",
      "555-4242\n",
      "415-555-4242\n",
      "415-555-4242\n"
     ]
    }
   ],
   "source": [
    "# Grouping with Parentheses\n",
    "phoneNumRegex = re.compile(r'(\\d\\d\\d)-(\\d\\d\\d-\\d\\d\\d\\d)')\n",
    "mo = phoneNumRegex.search('My number is 415-555-4242.')\n",
    "print(mo.group(1))\n",
    "print(mo.group(2))\n",
    "print(mo.group(0))\n",
    "print(mo.group())"
   ]
  },
  {
   "cell_type": "code",
   "execution_count": 6,
   "id": "b9970387",
   "metadata": {},
   "outputs": [
    {
     "name": "stdout",
     "output_type": "stream",
     "text": [
      "('415', '555-4242')\n",
      "415\n",
      "555-4242\n"
     ]
    }
   ],
   "source": [
    "# If you would like to retrieve all the groups at once, use the groups()\n",
    "# method—note the plural form for the name\n",
    "\n",
    "print(mo.groups())\n",
    "areaCode, mainNumber = mo.groups()\n",
    "print(areaCode)\n",
    "print(mainNumber)"
   ]
  },
  {
   "cell_type": "code",
   "execution_count": 8,
   "id": "73d6595c",
   "metadata": {},
   "outputs": [
    {
     "name": "stdout",
     "output_type": "stream",
     "text": [
      "(415)\n",
      "555-4242\n"
     ]
    }
   ],
   "source": [
    "phoneNumRegex = re.compile(r'(\\(\\d\\d\\d\\)) (\\d\\d\\d-\\d\\d\\d\\d)')\n",
    "mo = phoneNumRegex.search('My phone number is (415) 555-4242.')\n",
    "print(mo.group(1))\n",
    "print(mo.group(2))"
   ]
  },
  {
   "cell_type": "markdown",
   "id": "191eb845",
   "metadata": {},
   "source": [
    "## Matching Multiple Groups with the Pipe \" | \""
   ]
  },
  {
   "cell_type": "code",
   "execution_count": 10,
   "id": "fb366c2f",
   "metadata": {},
   "outputs": [
    {
     "name": "stdout",
     "output_type": "stream",
     "text": [
      "Batman\n",
      "Tina Fey\n"
     ]
    }
   ],
   "source": [
    "heroRegex = re.compile(r'Batman|Tina Fey')\n",
    "mo1 = heroRegex.search('Batman and Tina Fey')\n",
    "print(mo1.group())\n",
    "mo2 = heroRegex.search('Tina Fey and Batman')\n",
    "print(mo2.group())"
   ]
  },
  {
   "cell_type": "code",
   "execution_count": 13,
   "id": "3ffa78b0",
   "metadata": {},
   "outputs": [
    {
     "name": "stdout",
     "output_type": "stream",
     "text": [
      "Batmobile\n",
      "mobile\n"
     ]
    }
   ],
   "source": [
    "batRegex = re.compile(r'Bat(man|mobile|copter|bat)')\n",
    "mo = batRegex.search('Batmobile lost a wheel')\n",
    "print(mo.group())\n",
    "print(mo.group(1))"
   ]
  },
  {
   "cell_type": "markdown",
   "id": "53209eff",
   "metadata": {},
   "source": [
    "## Optional Matching with the Question Mark"
   ]
  },
  {
   "cell_type": "code",
   "execution_count": 14,
   "id": "5b91627c",
   "metadata": {},
   "outputs": [
    {
     "name": "stdout",
     "output_type": "stream",
     "text": [
      "Batman\n",
      "Batwoman\n"
     ]
    }
   ],
   "source": [
    "batRegex = re.compile(r'Bat(wo)?man')\n",
    "mo1 = batRegex.search('The Adventures of Batman')\n",
    "print(mo1.group())\n",
    "mo2 = batRegex.search('The Adventures of Batwoman')\n",
    "print(mo2.group())"
   ]
  },
  {
   "cell_type": "code",
   "execution_count": 15,
   "id": "1d650572",
   "metadata": {},
   "outputs": [
    {
     "name": "stdout",
     "output_type": "stream",
     "text": [
      "415-555-4242\n",
      "555-4242\n"
     ]
    }
   ],
   "source": [
    "# Using the earlier phone number example, you can make the regex look \n",
    "# for phone numbers that do or do not have an area code.\n",
    "\n",
    "phoneRegex = re.compile(r'(\\d\\d\\d-)?\\d\\d\\d-\\d\\d\\d\\d')\n",
    "mo1 = phoneRegex.search('My number is 415-555-4242')\n",
    "print(mo1.group())\n",
    "mo2 = phoneRegex.search('My number is 555-4242')\n",
    "print(mo2.group())"
   ]
  },
  {
   "cell_type": "markdown",
   "id": "ddeb07d6",
   "metadata": {},
   "source": [
    "## Matching Zero or More with the Star"
   ]
  },
  {
   "cell_type": "code",
   "execution_count": 19,
   "id": "ffba302c",
   "metadata": {},
   "outputs": [
    {
     "name": "stdout",
     "output_type": "stream",
     "text": [
      "Batman\n",
      "Batwoman\n",
      "Batwowowowoman\n"
     ]
    }
   ],
   "source": [
    "batRegex = re.compile(r'Bat(wo)*man')\n",
    "mo1 = batRegex.search('The Adventures of Batman')\n",
    "print(mo1.group())\n",
    "\n",
    "mo2 = batRegex.search('The Adventures of Batwoman')\n",
    "print(mo2.group())\n",
    "\n",
    "mo3 = batRegex.search('The Adventures of Batwowowowoman')\n",
    "print(mo3.group())"
   ]
  },
  {
   "cell_type": "markdown",
   "id": "2383f6ac",
   "metadata": {},
   "source": [
    "## Matching One or More with the Plus\n",
    "While * means “match zero or more,” the + (or plus) means “match one or \n",
    "more.” Unlike the star, which does not require its group to appear in the \n",
    "matched string, the group preceding a plus must appear at least once."
   ]
  },
  {
   "cell_type": "code",
   "execution_count": 20,
   "id": "8b30c22d",
   "metadata": {},
   "outputs": [
    {
     "name": "stdout",
     "output_type": "stream",
     "text": [
      "Batwoman\n",
      "Batwowowowoman\n",
      "True\n"
     ]
    }
   ],
   "source": [
    "batRegex = re.compile(r'Bat(wo)+man')\n",
    "mo1 = batRegex.search('The Adventures of Batwoman')\n",
    "print(mo1.group())\n",
    "\n",
    "mo2 = batRegex.search('The Adventures of Batwowowowoman')\n",
    "print(mo2.group())\n",
    "\n",
    "mo3 = batRegex.search('The Adventures of Batman')\n",
    "print(mo3 == None)"
   ]
  },
  {
   "cell_type": "markdown",
   "id": "8d65c0ea",
   "metadata": {},
   "source": [
    "## Matching Specific Repetitions with Braces"
   ]
  },
  {
   "cell_type": "code",
   "execution_count": 21,
   "id": "197996a8",
   "metadata": {},
   "outputs": [
    {
     "name": "stdout",
     "output_type": "stream",
     "text": [
      "HaHaHa\n",
      "True\n"
     ]
    }
   ],
   "source": [
    "haRegex = re.compile(r'(Ha){3}')\n",
    "mo1 = haRegex.search('HaHaHa')\n",
    "print(mo1.group())\n",
    "\n",
    "mo2 = haRegex.search('Ha')\n",
    "print(mo2 == None)"
   ]
  },
  {
   "cell_type": "markdown",
   "id": "4fa4ab7e",
   "metadata": {},
   "source": [
    "## Greedy and Non-greedy Matching\n",
    "Python’s regular expressions are greedy by default, which means that in \n",
    "ambiguous situations they will match the longest string possible. The non\u0002greedy (also called lazy) version of the braces, which matches the shortest \n",
    "string possible, has the closing brace followed by a question mark"
   ]
  },
  {
   "cell_type": "code",
   "execution_count": 23,
   "id": "496aef3e",
   "metadata": {},
   "outputs": [
    {
     "name": "stdout",
     "output_type": "stream",
     "text": [
      "HaHaHaHaHa\n",
      "HaHaHa\n"
     ]
    }
   ],
   "source": [
    "greedyHaRegex = re.compile(r'(Ha){3,5}')\n",
    "mo1 = greedyHaRegex.search('HaHaHaHaHa')\n",
    "print(mo1.group())\n",
    "\n",
    "nongreedyHaRegex = re.compile(r'(Ha){3,5}?')\n",
    "mo2 = nongreedyHaRegex.search('HaHaHaHaHa')\n",
    "print(mo2.group())"
   ]
  },
  {
   "cell_type": "markdown",
   "id": "aba71d77",
   "metadata": {},
   "source": [
    "## The findall() Method"
   ]
  },
  {
   "cell_type": "code",
   "execution_count": 27,
   "id": "216bca30",
   "metadata": {},
   "outputs": [
    {
     "name": "stdout",
     "output_type": "stream",
     "text": [
      "['415-555-9999', '212-555-0000']\n",
      "[('415', '555', '9999'), ('212', '555', '0000')]\n"
     ]
    }
   ],
   "source": [
    "phoneNumRegex = re.compile(r'\\d\\d\\d-\\d\\d\\d-\\d\\d\\d\\d')\n",
    "print(phoneNumRegex.findall('Cell: 415-555-9999 Work: 212-555-0000'))\n",
    "\n",
    "phoneNumRegex = re.compile(r'(\\d\\d\\d)-(\\d\\d\\d)-(\\d\\d\\d\\d)')\n",
    "print(phoneNumRegex.findall('Cell: 415-555-9999 Work: 212-555-0000'))"
   ]
  },
  {
   "cell_type": "markdown",
   "id": "aa17a86a",
   "metadata": {},
   "source": [
    "## Character Classes"
   ]
  },
  {
   "cell_type": "code",
   "execution_count": 29,
   "id": "90be627a",
   "metadata": {},
   "outputs": [
    {
     "data": {
      "text/plain": [
       "['12 drummers',\n",
       " '11 pipers',\n",
       " '10 lords',\n",
       " '9 ladies',\n",
       " '8 maids',\n",
       " '7 swans',\n",
       " '6 geese',\n",
       " '5 rings',\n",
       " '4 birds',\n",
       " '3 hens',\n",
       " '2 doves',\n",
       " '1 partridge']"
      ]
     },
     "execution_count": 29,
     "metadata": {},
     "output_type": "execute_result"
    }
   ],
   "source": [
    "xmasRegex = re.compile(r'\\d+\\s\\w+')\n",
    "xmasRegex.findall('12 drummers, 11 pipers, 10 lords, 9 ladies, 8 maids, 7 swans, 6 geese, 5 rings, 4 birds, 3 hens, 2 doves, 1 partridge')"
   ]
  },
  {
   "cell_type": "markdown",
   "id": "6403c6ae",
   "metadata": {},
   "source": [
    "## Making Your Own Character Classes"
   ]
  },
  {
   "cell_type": "code",
   "execution_count": 30,
   "id": "5fd56419",
   "metadata": {},
   "outputs": [
    {
     "data": {
      "text/plain": [
       "['o', 'o', 'o', 'e', 'a', 'a', 'o', 'o', 'A', 'O', 'O']"
      ]
     },
     "execution_count": 30,
     "metadata": {},
     "output_type": "execute_result"
    }
   ],
   "source": [
    "vowelRegex = re.compile(r'[aeiouAEIOU]')\n",
    "vowelRegex.findall('RoboCop eats baby food. BABY FOOD.')"
   ]
  },
  {
   "cell_type": "code",
   "execution_count": 31,
   "id": "11907d8e",
   "metadata": {},
   "outputs": [
    {
     "data": {
      "text/plain": [
       "['R',\n",
       " 'b',\n",
       " 'C',\n",
       " 'p',\n",
       " ' ',\n",
       " 't',\n",
       " 's',\n",
       " ' ',\n",
       " 'b',\n",
       " 'b',\n",
       " 'y',\n",
       " ' ',\n",
       " 'f',\n",
       " 'd',\n",
       " '.',\n",
       " ' ',\n",
       " 'B',\n",
       " 'B',\n",
       " 'Y',\n",
       " ' ',\n",
       " 'F',\n",
       " 'D',\n",
       " '.']"
      ]
     },
     "execution_count": 31,
     "metadata": {},
     "output_type": "execute_result"
    }
   ],
   "source": [
    "# By placing a caret character (^) just after the character class’s opening \n",
    "# bracket, you can make a negative character class. A negative character class \n",
    "# will match all the characters that are not in the character class.\n",
    "\n",
    "consonantRegex = re.compile(r'[^aeiouAEIOU]')\n",
    "consonantRegex.findall('RoboCop eats baby food. BABY FOOD.')"
   ]
  },
  {
   "cell_type": "markdown",
   "id": "a0a1e574",
   "metadata": {},
   "source": [
    "## The Caret and Dollar Sign Characters\n",
    "You can also use the caret symbol (^) at the start of a regex to indicate that \n",
    "a match must occur at the beginning of the searched text. Likewise, you can \n",
    "put a dollar sign ($) at the end of the regex to indicate the string must end\n",
    "with this regex pattern. And you can use the ^ and $ together to indicate \n",
    "that the entire string must match the regex"
   ]
  },
  {
   "cell_type": "code",
   "execution_count": 33,
   "id": "8f61052d",
   "metadata": {},
   "outputs": [
    {
     "name": "stdout",
     "output_type": "stream",
     "text": [
      "<re.Match object; span=(0, 5), match='Hello'>\n",
      "True\n"
     ]
    }
   ],
   "source": [
    "beginsWithHello = re.compile(r'^Hello')\n",
    "print(beginsWithHello.search('Hello, world!'))\n",
    "\n",
    "print(beginsWithHello.search('He said hello.') == None)"
   ]
  },
  {
   "cell_type": "code",
   "execution_count": 36,
   "id": "12335520",
   "metadata": {},
   "outputs": [
    {
     "name": "stdout",
     "output_type": "stream",
     "text": [
      "<re.Match object; span=(16, 17), match='2'>\n",
      "True\n"
     ]
    }
   ],
   "source": [
    "endsWithNumber = re.compile(r'\\d$')\n",
    "print(endsWithNumber.search('Your number is 42'))\n",
    "print(endsWithNumber.search('Your number is forty two.') == None)"
   ]
  },
  {
   "cell_type": "code",
   "execution_count": 37,
   "id": "25e6f8e1",
   "metadata": {},
   "outputs": [
    {
     "name": "stdout",
     "output_type": "stream",
     "text": [
      "<re.Match object; span=(0, 10), match='1234567890'>\n",
      "True\n",
      "True\n"
     ]
    }
   ],
   "source": [
    "wholeStringIsNum = re.compile(r'^\\d+$')\n",
    "print(wholeStringIsNum.search('1234567890'))\n",
    "print(wholeStringIsNum.search('12345xyz67890') == None)\n",
    "print(wholeStringIsNum.search('12 34567890') == None)"
   ]
  },
  {
   "cell_type": "markdown",
   "id": "e74ead72",
   "metadata": {},
   "source": [
    "## The Wildcard Character\n",
    "The . (or dot) character in a regular expression is called a wildcard and will \n",
    "match any character except for a newline"
   ]
  },
  {
   "cell_type": "code",
   "execution_count": 38,
   "id": "d8b5bbb8",
   "metadata": {},
   "outputs": [
    {
     "data": {
      "text/plain": [
       "['cat', 'hat', 'sat', 'lat', 'mat']"
      ]
     },
     "execution_count": 38,
     "metadata": {},
     "output_type": "execute_result"
    }
   ],
   "source": [
    "atRegex = re.compile(r'.at')\n",
    "atRegex.findall('The cat in the hat sat on the flat mat.')"
   ]
  },
  {
   "cell_type": "markdown",
   "id": "c34aa773",
   "metadata": {},
   "source": [
    "### Matching Everything with Dot-Star"
   ]
  },
  {
   "cell_type": "code",
   "execution_count": 3,
   "id": "26c98ccb",
   "metadata": {},
   "outputs": [
    {
     "name": "stdout",
     "output_type": "stream",
     "text": [
      "Anupam\n",
      "Kumawat\n",
      "[('Anupam', 'Kumawat')]\n"
     ]
    }
   ],
   "source": [
    "import re\n",
    "\n",
    "nameRegex = re.compile(r'First Name: (.*) Last Name: (.*)')\n",
    "mo = nameRegex.search('First Name: Anupam Last Name: Kumawat')\n",
    "print(mo.group(1))\n",
    "print(mo.group(2))\n",
    "print(nameRegex.findall('First Name: Anupam Last Name: Kumawat'))"
   ]
  },
  {
   "cell_type": "code",
   "execution_count": 41,
   "id": "65a7a004",
   "metadata": {},
   "outputs": [
    {
     "name": "stdout",
     "output_type": "stream",
     "text": [
      "<To serve man>\n",
      "<To serve man> for dinner.>\n"
     ]
    }
   ],
   "source": [
    "nongreedyRegex = re.compile(r'<.*?>')\n",
    "mo = nongreedyRegex.search('<To serve man> for dinner.>')\n",
    "print(mo.group())\n",
    "\n",
    "greedyRegex = re.compile(r'<.*>')\n",
    "mo = greedyRegex.search('<To serve man> for dinner.>')\n",
    "print(mo.group())"
   ]
  },
  {
   "cell_type": "markdown",
   "id": "d0953a9d",
   "metadata": {},
   "source": [
    "### Matching Newlines with the Dot Character"
   ]
  },
  {
   "cell_type": "code",
   "execution_count": 45,
   "id": "1c2ef4fb",
   "metadata": {},
   "outputs": [
    {
     "name": "stdout",
     "output_type": "stream",
     "text": [
      "Serve the public trust.\n",
      "\n",
      "\n",
      "Serve the public trust.\n",
      "Protect the innocent.\n",
      "Uphold the law.\n"
     ]
    }
   ],
   "source": [
    " noNewlineRegex = re.compile('.*')\n",
    "print(noNewlineRegex.search('Serve the public trust.\\nProtect the innocent.\\nUphold the law.').group())\n",
    "\n",
    "print('\\n')\n",
    "\n",
    "newlineRegex = re.compile('.*', re.DOTALL)\n",
    "print(newlineRegex.search('Serve the public trust.\\nProtect the innocent.\\nUphold the law.').group())"
   ]
  },
  {
   "cell_type": "markdown",
   "id": "8ab57540",
   "metadata": {},
   "source": [
    "## Case-Insensitive Matching"
   ]
  },
  {
   "cell_type": "code",
   "execution_count": 46,
   "id": "83cf813f",
   "metadata": {},
   "outputs": [
    {
     "name": "stdout",
     "output_type": "stream",
     "text": [
      "RoboCop\n",
      "ROBOCOP\n",
      "robocop\n"
     ]
    }
   ],
   "source": [
    "robocop = re.compile(r'robocop', re.I)\n",
    "print(robocop.search('RoboCop is part man, part machine, all cop.').group())\n",
    "\n",
    "print(robocop.search('ROBOCOP protects the innocent.').group())\n",
    "\n",
    "print(robocop.search('Al, why does your programming book talk about robocop so much?').group())"
   ]
  },
  {
   "cell_type": "markdown",
   "id": "acd32fd2",
   "metadata": {},
   "source": [
    "## Substituting Strings with the sub() Method"
   ]
  },
  {
   "cell_type": "code",
   "execution_count": 47,
   "id": "6fad8120",
   "metadata": {},
   "outputs": [
    {
     "data": {
      "text/plain": [
       "'CENSORED gave the secret documents to CENSORED.'"
      ]
     },
     "execution_count": 47,
     "metadata": {},
     "output_type": "execute_result"
    }
   ],
   "source": [
    "namesRegex = re.compile(r'Agent \\w+')\n",
    "namesRegex.sub('CENSORED', 'Agent Alice gave the secret documents to Agent Bob.')"
   ]
  },
  {
   "cell_type": "code",
   "execution_count": 48,
   "id": "9498311c",
   "metadata": {},
   "outputs": [
    {
     "data": {
      "text/plain": [
       "'A**** told C**** that E**** knew B**** was a double agent.'"
      ]
     },
     "execution_count": 48,
     "metadata": {},
     "output_type": "execute_result"
    }
   ],
   "source": [
    "agentNamesRegex = re.compile(r'Agent (\\w)\\w*')\n",
    "agentNamesRegex.sub(r'\\1****', 'Agent Alice told Agent Carol that Agent Even knew Agent Bob was a double agent.')"
   ]
  },
  {
   "cell_type": "markdown",
   "id": "97a801a1",
   "metadata": {},
   "source": [
    "## Managing Complex Regexes\n",
    "Regular expressions are fine if the text pattern you need to match is simple. \n",
    "But matching complicated text patterns might require long, convoluted reg\u0002ular expressions. You can mitigate this by telling the re.compile() function \n",
    "to ignore whitespace and comments inside the regular expression string. \n",
    "This “verbose mode” can be enabled by passing the variable re.VERBOSE as \n",
    "the second argument to re.compile()."
   ]
  },
  {
   "cell_type": "code",
   "execution_count": 49,
   "id": "48a76883",
   "metadata": {},
   "outputs": [],
   "source": [
    "# Now instead of a hard-to-read regular expression like this:\n",
    "#   phoneRegex = re.compile(r'((\\d{3}|\\(\\d{3}\\))?(\\s|-|\\.)?\\d{3}(\\s|-|\\.)\\d{4}(\\s*(ext|x|ext.)\\s*\\d{2,5})?)')\n",
    "\n",
    "\n",
    "phoneRegex = re.compile(r'''(\n",
    " (\\d{3}|\\(\\d{3}\\))? # area code\n",
    " (\\s|-|\\.)? # separator\n",
    " \\d{3} # first 3 digits\n",
    " (\\s|-|\\.) # separator\n",
    " \\d{4} # last 4 digits\n",
    "Pattern Matching with Regular Expressions 179\n",
    " (\\s*(ext|x|ext.)\\s*\\d{2,5})? # extension\n",
    " )''', re.VERBOSE)"
   ]
  },
  {
   "cell_type": "markdown",
   "id": "90fe2a41",
   "metadata": {},
   "source": [
    "## Combining re.IGNORECASE, re.DOTALL, and re.VERBOSE\n",
    "What if you want to use re.VERBOSE to write comments in your regular \n",
    "expression but also want to use re.IGNORECASE to ignore capitalization? \n",
    "Unfortunately, the re.compile() function takes only a single value as its \n",
    "second argument. You can get around this limitation by combining the \n",
    "re.IGNORECASE, re.DOTALL, and re.VERBOSE variables using the pipe character \n",
    "(|), which in this context is known as the bitwise or operator"
   ]
  },
  {
   "cell_type": "code",
   "execution_count": 50,
   "id": "2c1d8ddb",
   "metadata": {},
   "outputs": [],
   "source": [
    "someRegexValue = re.compile('foo', re.IGNORECASE|re.DOTALL|re.VERBOSE)"
   ]
  },
  {
   "cell_type": "code",
   "execution_count": 17,
   "id": "15533a9b",
   "metadata": {},
   "outputs": [
    {
     "name": "stdout",
     "output_type": "stream",
     "text": [
      "('+91', '8955211055')\n"
     ]
    }
   ],
   "source": [
    "import re\n",
    "\n",
    "phoneNumber = re.compile(r'(\\+\\d\\d)?(\\d\\d\\d\\d\\d\\d\\d\\d\\d\\d)')\n",
    "ph1 = phoneNumber.search('+918955211055')\n",
    "\n",
    "print(ph1.groups())"
   ]
  },
  {
   "cell_type": "markdown",
   "id": "a2d73064",
   "metadata": {},
   "source": [
    "# Project: Phone Number and Email Address Extractor"
   ]
  },
  {
   "cell_type": "markdown",
   "id": "001c9628",
   "metadata": {},
   "source": [
    "### Step 1: Create a Regex for Phone Numbers"
   ]
  },
  {
   "cell_type": "code",
   "execution_count": 9,
   "id": "275be281",
   "metadata": {},
   "outputs": [],
   "source": [
    "import pyperclip, re\n",
    "\n",
    "phoneRegex = re.compile(r'''(\n",
    "(\\d{3}|\\(\\d{3}\\))?   # area code\n",
    "(\\s|-|\\.)?           # separator\n",
    "(\\d{3})              # first 3 digits\n",
    "(\\s|-|\\.)            # separator\n",
    "(\\d{4})              # last 4 digits\n",
    "(\\s*(ext|x|ext.)\\s*(\\d{2,5}))?  # extension\n",
    ")''',re.VERBOSE)"
   ]
  },
  {
   "cell_type": "markdown",
   "id": "913f5887",
   "metadata": {},
   "source": [
    "### Step 2: Create a Regex for Email Addresses"
   ]
  },
  {
   "cell_type": "code",
   "execution_count": 10,
   "id": "db1154de",
   "metadata": {},
   "outputs": [],
   "source": [
    "emailRegex = re.compile(r'''(\n",
    "[a-zA-Z-0-9._%+-]+     # username\n",
    "@                      # @ symbol\n",
    "[a-zA-Z0-9.-]+         # domain name\n",
    "(\\.[a-zA-Z]{2,4})      # dot-something \n",
    ")''',re.VERBOSE)"
   ]
  },
  {
   "cell_type": "markdown",
   "id": "4efeb8e8",
   "metadata": {},
   "source": [
    "### Step 3: Find All Matches in the Clipboard Text"
   ]
  },
  {
   "cell_type": "code",
   "execution_count": 11,
   "id": "930c35fd",
   "metadata": {},
   "outputs": [],
   "source": [
    "# Find matches in clipboard text.\n",
    "\n",
    "text = str(pyperclip.paste())\n",
    "\n",
    "matches = []\n",
    "for groups in phoneRegex.findall(text):\n",
    "    phoneNum = '-'.join([groups[1],groups[3],groups[5]])\n",
    "    if groups[8] != '':\n",
    "        phoneNum += ' x' + groups[8]\n",
    "    matches.append(phoneNum)\n",
    "for groups in emailRegex.findall(text):\n",
    "    matches.append(groups[0])"
   ]
  },
  {
   "cell_type": "markdown",
   "id": "f7d4048d",
   "metadata": {},
   "source": [
    "### Step 4: Join the Matches into a String for the Clipboard"
   ]
  },
  {
   "cell_type": "code",
   "execution_count": 16,
   "id": "299a92a7",
   "metadata": {},
   "outputs": [
    {
     "name": "stdout",
     "output_type": "stream",
     "text": [
      "Copied to clipboard:\n",
      "support@nostarch.com\n",
      "academic@nostarch.com\n",
      "sales@nostarch.com\n",
      "conferences@nostarch.com\n",
      "errata@nostarch.com\n",
      "info@nostarch.com\n",
      "media@nostarch.com\n",
      "editors@nostarch.com\n",
      "rights@nostarch.com\n",
      "support@nostarch.com\n",
      "academic@nostarch.com\n",
      "sales@nostarch.com\n",
      "conferences@nostarch.com\n",
      "errata@nostarch.com\n",
      "info@nostarch.com\n",
      "media@nostarch.com\n",
      "editors@nostarch.com\n",
      "rights@nostarch.com\n",
      "support@nostarch.com\n",
      "academic@nostarch.com\n",
      "sales@nostarch.com\n",
      "conferences@nostarch.com\n",
      "errata@nostarch.com\n",
      "info@nostarch.com\n",
      "media@nostarch.com\n",
      "editors@nostarch.com\n",
      "rights@nostarch.com\n",
      "support@nostarch.com\n",
      "academic@nostarch.com\n",
      "sales@nostarch.com\n",
      "conferences@nostarch.com\n",
      "errata@nostarch.com\n",
      "info@nostarch.com\n",
      "media@nostarch.com\n",
      "editors@nostarch.com\n",
      "rights@nostarch.com\n",
      "support@nostarch.com\n",
      "academic@nostarch.com\n",
      "sales@nostarch.com\n",
      "conferences@nostarch.com\n",
      "errata@nostarch.com\n",
      "info@nostarch.com\n",
      "media@nostarch.com\n",
      "editors@nostarch.com\n",
      "rights@nostarch.com\n"
     ]
    }
   ],
   "source": [
    "for groups in emailRegex.findall(text):\n",
    "    matches.append(groups[0])\n",
    "    \n",
    "if len(matches) > 0:\n",
    "    pyperclip.copy('\\n'.join(matches))\n",
    "    print('Copied to clipboard:')\n",
    "    print('\\n'.join(matches))\n",
    "else:\n",
    "    print('No phone numbers or email addresses found.')"
   ]
  },
  {
   "cell_type": "code",
   "execution_count": null,
   "id": "32d06b73",
   "metadata": {},
   "outputs": [],
   "source": []
  }
 ],
 "metadata": {
  "kernelspec": {
   "display_name": "Python 3 (ipykernel)",
   "language": "python",
   "name": "python3"
  },
  "language_info": {
   "codemirror_mode": {
    "name": "ipython",
    "version": 3
   },
   "file_extension": ".py",
   "mimetype": "text/x-python",
   "name": "python",
   "nbconvert_exporter": "python",
   "pygments_lexer": "ipython3",
   "version": "3.9.16"
  }
 },
 "nbformat": 4,
 "nbformat_minor": 5
}
